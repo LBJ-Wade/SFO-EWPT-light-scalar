{
 "cells": [
  {
   "cell_type": "code",
   "execution_count": 2,
   "id": "8be6daf0-4a77-465f-8f8d-105b885fb99e",
   "metadata": {},
   "outputs": [
    {
     "name": "stderr",
     "output_type": "stream",
     "text": [
      "/Users/isaac/opt/anaconda3/lib/python3.9/site-packages/cosmoTransitions/finiteT.py:88: IntegrationWarning: The integral is probably divergent, or slowly convergent.\n",
      "  integrate.quad(f1, 0, abs(theta)**.5)[0]\n"
     ]
    }
   ],
   "source": [
    "import numpy as np\n",
    "from cosmoTransitions import generic_potential as gp"
   ]
  },
  {
   "cell_type": "code",
   "execution_count": null,
   "id": "ab9dc4d2-e016-4ab7-85fb-4ee86ad24e2e",
   "metadata": {},
   "outputs": [],
   "source": [
    "class model(gp.generic_potential):\n",
    "    "
   ]
  }
 ],
 "metadata": {
  "kernelspec": {
   "display_name": "Python 3 (ipykernel)",
   "language": "python",
   "name": "python3"
  },
  "language_info": {
   "codemirror_mode": {
    "name": "ipython",
    "version": 3
   },
   "file_extension": ".py",
   "mimetype": "text/x-python",
   "name": "python",
   "nbconvert_exporter": "python",
   "pygments_lexer": "ipython3",
   "version": "3.9.7"
  }
 },
 "nbformat": 4,
 "nbformat_minor": 5
}
